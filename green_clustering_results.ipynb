{
  "nbformat": 4,
  "nbformat_minor": 0,
  "metadata": {
    "colab": {
      "name": "green_clustering_results.ipynb",
      "provenance": [],
      "authorship_tag": "ABX9TyOTuTUqq/WDtmnGBUygSMRi",
      "include_colab_link": true
    },
    "kernelspec": {
      "name": "python3",
      "display_name": "Python 3"
    },
    "language_info": {
      "name": "python"
    }
  },
  "cells": [
    {
      "cell_type": "markdown",
      "metadata": {
        "id": "view-in-github",
        "colab_type": "text"
      },
      "source": [
        "<a href=\"https://colab.research.google.com/github/Chandrachapa/C_learning/blob/master/green_clustering_results.ipynb\" target=\"_parent\"><img src=\"https://colab.research.google.com/assets/colab-badge.svg\" alt=\"Open In Colab\"/></a>"
      ]
    },
    {
      "cell_type": "code",
      "metadata": {
        "id": "EQ5DPjH-UESk"
      },
      "source": [
        "from mpl_toolkits.mplot3d import axes3d\n",
        "from scipy.spatial import ConvexHull\n",
        "import cvxpy as cp\n",
        "import matplotlib.pyplot as plt\n",
        "import numpy as np\n",
        "import sklearn.datasets\n",
        "from sklearn.neighbors import NearestNeighbors\n",
        "from sklearn.datasets import make_blobs\n",
        "from collections import Counter\n",
        "import math\n",
        "from sklearn.cluster import KMeans\n",
        "from sklearn.metrics import pairwise_distances_argmin_min\n",
        "from sklearn.decomposition import PCA\n",
        "from gap_statistic import OptimalK\n",
        "from numpy import linalg as LA\n",
        "from numpy.linalg import multi_dot\n",
        "from sklearn.metrics.cluster import adjusted_rand_score\n",
        "from sklearn import metrics\n",
        "\n",
        "rand_iter = 20\n",
        "Npts=1000\n",
        "rand_initializations=5\n",
        "#https://stackoverflow.com/questions/61859098/maximum-volume-inscribed-ellipsoid-in-a-polytope-set-of-points?fbclid=IwAR2DcaQSvqd368lstBayY-atAbQxCVa_EecgS7HE-mrpK6EanO9qbsX2Drg\n",
        "#From: https://stackoverflow.com/a/61786434/752843\n",
        "\n",
        "def random_point_ellipse(W,d):\n",
        "  # random angle\n",
        "  alpha = 2 * np.pi * np.random.random()\n",
        "  # vector on that angle\n",
        "  pt = np.array([np.cos(alpha),np.sin(alpha)])\n",
        "  # Ellipsoidize it\n",
        "  return W@pt+d\n",
        "\n",
        "def GetRandom(dims, Nptss):\n",
        "  if dims==2:\n",
        "    W = sklearn.datasets.make_spd_matrix(2)\n",
        "    d = np.array([2,3])\n",
        "    #form clusters 2d \n",
        "    centers = [[0, 1], [1.5, 1.5], [1,1]]\n",
        "    stds = [0.12, 0.12, 0.12]\n",
        "    points, labels_true = make_blobs(n_samples=Npts, centers=centers, cluster_std=stds, random_state=0)\n",
        "  else:\n",
        "    raise Exception(\"dims must be 2 or 3!\")\n",
        "  return points\n",
        "\n",
        "def GetHull(points):\n",
        "  dim  = points.shape[1]\n",
        "  hull = ConvexHull(points)\n",
        "  A    = hull.equations[:,0:dim]\n",
        "  b    = hull.equations[:,dim]\n",
        "  return A, -b, hull #Negative moves b to the RHS of the inequality\n",
        "\n",
        "def FindMaximumVolumeInscribedEllipsoid(points,rand_iter):\n",
        "  \"\"\"Find the inscribed ellipsoid of maximum volume. Return its matrix-offset form.\"\"\"\n",
        "  dim = points.shape[1]\n",
        "  A,b,hull = GetHull(points)\n",
        "\n",
        "  B = cp.Variable((dim,dim), PSD=True) #Ellipsoid\n",
        "  d = cp.Variable(dim)                 #Center\n",
        "\n",
        "  constraints = [cp.norm(B@A[i],2)+A[i]@d<=b[i] for i in range(len(A))]\n",
        "  prob = cp.Problem(cp.Minimize(-cp.log_det(B)), constraints)\n",
        "  optval = prob.solve()\n",
        "  if optval==np.inf:\n",
        "    raise Exception(\"No solution possible!\")\n",
        "  #print(f\"Optimal value: {optval}\") \n",
        "  sum=0\n",
        "  B.value,d.value,avg=Plot(points, hull, B.value, d.value)\n",
        "  return B.value, d.value,avg\n",
        "\n",
        "def Plot(points, hull, B, d):\n",
        "    sum=0\n",
        "    for j in range(rand_iter):\n",
        "      if points.shape[1]==2:\n",
        "        kmeans_model = KMeans(n_clusters=3,init='k-means++', n_init=10)\n",
        "        kmeans = kmeans_model.fit(points)\n",
        "        centers = np.array(kmeans.cluster_centers_)\n",
        "        # Centroid coordinates\n",
        "        centroids = kmeans.cluster_centers_\n",
        "        display_points = np.array([random_point_ellipse([[1,0],[0,1]],[0,0]) for i in range(Npts)])\n",
        "        display_points = display_points@B+d\n",
        "        #optimal clustering\n",
        "        optimalK = OptimalK(parallel_backend='rust')\n",
        "        n_clusters = optimalK(points, cluster_array=range(2, 15))\n",
        "        optimalK.gap_df.head()\n",
        "        km = KMeans(n_clusters,init='k-means++', n_init=10)\n",
        "        km.fit(points)\n",
        "        y_cluster_kmeans = km.predict(points)\n",
        "        score = metrics.silhouette_score(points, y_cluster_kmeans)\n",
        "        sum = sum+ score\n",
        "    avg = sum/rand_iter\n",
        "    #print(\"sscore without ellipse: \",avg)\n",
        "    return B,d,avg\n",
        "\n",
        "#optimal clustering using points inside only\n",
        "\n",
        "sum2 =0\n",
        "centers = [[0, 1], [1.5, 1.5], [1,1]]\n",
        "stds = [0.12, 0.12, 0.12]\n",
        "points, labels_true = make_blobs(n_samples=Npts,centers=centers, cluster_std=stds, random_state=0)\n",
        "#print(\"labels_true: \",labels_true)\n",
        "result_t = []\n",
        "label_t = []\n",
        "\n",
        "def WithEllipsoid(Npts,rand_iter,B,d):\n",
        "# Impose the constraint that v₁, ..., vₙ are all outside of the ellipsoid.\n",
        "    #take the total sum of no rand iterations\n",
        "    sum2 =0\n",
        "    for j in range(rand_iter):\n",
        "        outside=0\n",
        "        inside=0\n",
        "        for i in range(Npts):\n",
        "          P = (points[i] - d).T         \n",
        "          Q = (np.linalg.inv(B)).T\n",
        "          R = np.linalg.inv(B)\n",
        "          S = (points[i] - d)\n",
        "          \n",
        "          if multi_dot([P,Q,R,S])> 1:\n",
        "                  inside =inside+1\n",
        "                  np.array(result_t.append(points[i]))\n",
        "                  np.array(label_t.append(labels_true[i]))\n",
        "          elif multi_dot([P,Q,R,S])<= 1:\n",
        "                  outside =outside+1\n",
        "\n",
        "        #print(\"inside no: \",inside)   \n",
        "        #print(\"inside points: \",np.array(result_t).shape)\n",
        "        #print(\"outside no: \",outside)  \n",
        "\n",
        "        optimalK = OptimalK(parallel_backend='rust')\n",
        "        n_clusters2 = optimalK(np.array(result_t), cluster_array=range(2, 15))\n",
        "        #print(\"new cluster count: \",n_clusters2)\n",
        "\n",
        "        optimalK.gap_df.head()\n",
        "        km = KMeans(n_clusters2,init='k-means++', n_init=10)\n",
        "        km.fit(np.array(result_t))\n",
        "        ellipsoid_labels=km.predict(np.array(result_t))\n",
        "        score2 = metrics.silhouette_score(np.array(result_t), ellipsoid_labels)\n",
        "        #print(\"silhouette_score ellipsoid\",score)\n",
        "        sum2 = sum2+ score2\n",
        "    avg2 = sum2/rand_iter\n",
        "    return avg2,inside,outside\n",
        "\n",
        "rand_init_sum = 0\n",
        "rand_init_sum_wt=0\n",
        "in_pts_sum=[]\n",
        "out_pts_sum=[]\n",
        "\n",
        "for j in range(rand_initializations):\n",
        "  np.random.seed(j)\n",
        "  B,d,sscore_without = FindMaximumVolumeInscribedEllipsoid(GetRandom(dims=2, Nptss=Npts),rand_iter)\n",
        "  rand_init_sum_wt =  rand_init_sum_wt + sscore_without\n",
        "  \n",
        "  rand_init_avg,in_pts,out_pts = WithEllipsoid(Npts,rand_iter,B,d)\n",
        "  rand_init_sum =  rand_init_sum + rand_init_avg \n",
        "  #append inside points to an array\n",
        "  np.array(in_pts_sum.append(in_pts))\n",
        "  np.array(out_pts_sum.append(out_pts))\n",
        "\n",
        "avg_rand_sscore_wt = rand_init_sum_wt/rand_initializations \n",
        "\n",
        "avg_rand_sscore = rand_init_sum/rand_initializations \n",
        "\n",
        "print(\"avg_rand_sscore_wt: \",avg_rand_sscore_wt)   \n",
        "\n",
        "print(\"avg_rand_sscore: \",avg_rand_sscore,\"in pts:\",in_pts_sum,\"out pts:\",out_pts_sum)    "
      ],
      "execution_count": null,
      "outputs": []
    },
    {
      "cell_type": "code",
      "metadata": {
        "colab": {
          "base_uri": "https://localhost:8080/"
        },
        "id": "iBdCmk97ULq3",
        "outputId": "d0a0e3e8-3734-400e-cac7-ce968e42d481"
      },
      "source": [
        "pip install gapstat_rs"
      ],
      "execution_count": 2,
      "outputs": [
        {
          "output_type": "stream",
          "text": [
            "Collecting gapstat_rs\n",
            "\u001b[?25l  Downloading https://files.pythonhosted.org/packages/b5/e1/63fca4894933743479e6ff59d88f9223cfe3d236eaa9df7ca594a3265a2c/gapstat_rs-2.0.1-cp37-cp37m-manylinux1_x86_64.whl (814kB)\n",
            "\u001b[K     |████████████████████████████████| 819kB 5.6MB/s \n",
            "\u001b[?25hInstalling collected packages: gapstat-rs\n",
            "Successfully installed gapstat-rs-2.0.1\n"
          ],
          "name": "stdout"
        }
      ]
    },
    {
      "cell_type": "code",
      "metadata": {
        "colab": {
          "base_uri": "https://localhost:8080/"
        },
        "id": "v1zcFbZNUN4Q",
        "outputId": "fa636d23-7d78-4eb6-b482-2411239ca721"
      },
      "source": [
        "pip install SimpleITK "
      ],
      "execution_count": 3,
      "outputs": [
        {
          "output_type": "stream",
          "text": [
            "Collecting SimpleITK\n",
            "\u001b[?25l  Downloading https://files.pythonhosted.org/packages/9c/6b/85df5eb3a8059b23a53a9f224476e75473f9bcc0a8583ed1a9c34619f372/SimpleITK-2.0.2-cp37-cp37m-manylinux2010_x86_64.whl (47.4MB)\n",
            "\u001b[K     |████████████████████████████████| 47.4MB 79kB/s \n",
            "\u001b[?25hInstalling collected packages: SimpleITK\n",
            "Successfully installed SimpleITK-2.0.2\n"
          ],
          "name": "stdout"
        }
      ]
    },
    {
      "cell_type": "code",
      "metadata": {
        "colab": {
          "base_uri": "https://localhost:8080/"
        },
        "id": "8YvGXZ0uUQGn",
        "outputId": "044e5492-752c-421c-a1f1-d077775c17c5"
      },
      "source": [
        "pip install gap-stat"
      ],
      "execution_count": 4,
      "outputs": [
        {
          "output_type": "stream",
          "text": [
            "Collecting gap-stat\n",
            "  Downloading https://files.pythonhosted.org/packages/59/00/33eb7ecd5eb19dacf84013942ca4480606b3c322bf4ac6555edf79e99c76/gap_stat-2.0.1-py3-none-any.whl\n",
            "Requirement already satisfied: scipy in /usr/local/lib/python3.7/dist-packages (from gap-stat) (1.4.1)\n",
            "Requirement already satisfied: numpy in /usr/local/lib/python3.7/dist-packages (from gap-stat) (1.19.5)\n",
            "Requirement already satisfied: pandas in /usr/local/lib/python3.7/dist-packages (from gap-stat) (1.1.5)\n",
            "Requirement already satisfied: python-dateutil>=2.7.3 in /usr/local/lib/python3.7/dist-packages (from pandas->gap-stat) (2.8.1)\n",
            "Requirement already satisfied: pytz>=2017.2 in /usr/local/lib/python3.7/dist-packages (from pandas->gap-stat) (2018.9)\n",
            "Requirement already satisfied: six>=1.5 in /usr/local/lib/python3.7/dist-packages (from python-dateutil>=2.7.3->pandas->gap-stat) (1.15.0)\n",
            "Installing collected packages: gap-stat\n",
            "Successfully installed gap-stat-2.0.1\n"
          ],
          "name": "stdout"
        }
      ]
    }
  ]
}